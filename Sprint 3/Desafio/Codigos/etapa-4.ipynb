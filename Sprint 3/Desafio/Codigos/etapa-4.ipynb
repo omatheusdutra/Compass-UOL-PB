{
 "cells": [
  {
   "cell_type": "markdown",
   "id": "4c1f902d",
   "metadata": {},
   "source": [
    "## Biblioteca"
   ]
  },
  {
   "cell_type": "code",
   "execution_count": 1,
   "id": "11a41f6b",
   "metadata": {},
   "outputs": [],
   "source": [
    "import csv"
   ]
  },
  {
   "cell_type": "markdown",
   "id": "3bdf584d",
   "metadata": {},
   "source": [
    "## Extração"
   ]
  },
  {
   "cell_type": "code",
   "execution_count": 2,
   "id": "5cdc8e03",
   "metadata": {},
   "outputs": [],
   "source": [
    "with open('actors.csv', 'r') as csv_file:\n",
    "    reader = csv.reader(csv_file)\n",
    "    next(reader)  \n",
    "    movies = {}\n",
    "    \n",
    "    for row in reader:\n",
    "        movie = row[4]\n",
    "        if movie in movies:\n",
    "            movies[movie] += 1\n",
    "        else:\n",
    "            movies[movie] = 1"
   ]
  },
  {
   "cell_type": "markdown",
   "id": "e8320eeb",
   "metadata": {},
   "source": [
    "## Transformação"
   ]
  },
  {
   "cell_type": "code",
   "execution_count": 5,
   "id": "5d0e0d4b",
   "metadata": {},
   "outputs": [],
   "source": [
    "    max_frequency = max(movies.values())\n",
    "    most_frequent_movies = [movie for movie, frequency in movies.items() if frequency == max_frequency]\n",
    "    \n",
    "    result = ''\n",
    "    \n",
    "    for movie in most_frequent_movies:\n",
    "        result += f'{movie}: {max_frequency}\\n'"
   ]
  },
  {
   "cell_type": "markdown",
   "id": "deb0bff4",
   "metadata": {},
   "source": [
    "## Carregamento"
   ]
  },
  {
   "cell_type": "code",
   "execution_count": 6,
   "id": "6ce070fc",
   "metadata": {},
   "outputs": [],
   "source": [
    " with open('etapa-4.txt', 'w') as file:\n",
    "        file.write(result)"
   ]
  },
  {
   "cell_type": "code",
   "execution_count": null,
   "id": "f4be7e69",
   "metadata": {},
   "outputs": [],
   "source": []
  }
 ],
 "metadata": {
  "kernelspec": {
   "display_name": "Python 3 (ipykernel)",
   "language": "python",
   "name": "python3"
  },
  "language_info": {
   "codemirror_mode": {
    "name": "ipython",
    "version": 3
   },
   "file_extension": ".py",
   "mimetype": "text/x-python",
   "name": "python",
   "nbconvert_exporter": "python",
   "pygments_lexer": "ipython3",
   "version": "3.10.9"
  }
 },
 "nbformat": 4,
 "nbformat_minor": 5
}
