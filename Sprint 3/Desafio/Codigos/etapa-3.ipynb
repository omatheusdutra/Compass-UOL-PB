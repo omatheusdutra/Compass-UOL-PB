{
 "cells": [
  {
   "cell_type": "markdown",
   "id": "962accb5",
   "metadata": {},
   "source": [
    "## Biblioteca"
   ]
  },
  {
   "cell_type": "code",
   "execution_count": 1,
   "id": "ada1dbfb",
   "metadata": {},
   "outputs": [],
   "source": [
    "import csv"
   ]
  },
  {
   "cell_type": "markdown",
   "id": "01b3efe8",
   "metadata": {},
   "source": [
    "## Exportação"
   ]
  },
  {
   "cell_type": "code",
   "execution_count": 2,
   "id": "a1bc2c7e",
   "metadata": {},
   "outputs": [],
   "source": [
    "with open('actors.csv', 'r') as csv_file:\n",
    "    reader = csv.reader(csv_file)\n",
    "    next(reader) \n",
    "    actors = {}\n",
    "\n",
    "    for row in reader:\n",
    "        actor = row[0]\n",
    "        total_gross = float(row[1])\n",
    "        num_movies = int(row[2])\n",
    "        average = total_gross / num_movies\n",
    "\n",
    "        if actor in actors:\n",
    "            actors[actor].append(average)\n",
    "        else:\n",
    "            actors[actor] = [average]"
   ]
  },
  {
   "cell_type": "markdown",
   "id": "d5714e60",
   "metadata": {},
   "source": [
    "## Transformação"
   ]
  },
  {
   "cell_type": "code",
   "execution_count": 8,
   "id": "263f07b7",
   "metadata": {},
   "outputs": [],
   "source": [
    "actor_max_average = max(actors, key=lambda x: sum(actors[x]) / len(actors[x]))\n",
    "average_max = sum(actors[actor_max_average]) / len(actors[actor_max_average])\n",
    "\n",
    "result = f'{actor_max_average}: {average_max:.2f}'\n",
    "\n"
   ]
  },
  {
   "cell_type": "markdown",
   "id": "e7bb75bb",
   "metadata": {},
   "source": [
    "## Carregamento"
   ]
  },
  {
   "cell_type": "code",
   "execution_count": 9,
   "id": "57e43741",
   "metadata": {},
   "outputs": [],
   "source": [
    "with open('etapa-3.txt', 'w') as file:\n",
    "    file.write(result)"
   ]
  },
  {
   "cell_type": "code",
   "execution_count": null,
   "id": "39a36de6",
   "metadata": {},
   "outputs": [],
   "source": []
  }
 ],
 "metadata": {
  "kernelspec": {
   "display_name": "Python 3 (ipykernel)",
   "language": "python",
   "name": "python3"
  },
  "language_info": {
   "codemirror_mode": {
    "name": "ipython",
    "version": 3
   },
   "file_extension": ".py",
   "mimetype": "text/x-python",
   "name": "python",
   "nbconvert_exporter": "python",
   "pygments_lexer": "ipython3",
   "version": "3.10.9"
  }
 },
 "nbformat": 4,
 "nbformat_minor": 5
}
