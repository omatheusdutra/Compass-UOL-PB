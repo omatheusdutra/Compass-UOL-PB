{
 "cells": [
  {
   "cell_type": "markdown",
   "id": "e0f5c76b",
   "metadata": {},
   "source": [
    "## Biblioteca"
   ]
  },
  {
   "cell_type": "code",
   "execution_count": 1,
   "id": "c83d1bf0",
   "metadata": {},
   "outputs": [],
   "source": [
    "import csv"
   ]
  },
  {
   "cell_type": "markdown",
   "id": "0b306381",
   "metadata": {},
   "source": [
    "## Extração"
   ]
  },
  {
   "cell_type": "code",
   "execution_count": 2,
   "id": "cf3cddd5",
   "metadata": {},
   "outputs": [],
   "source": [
    "with open('actors.csv', 'r') as csv_file:\n",
    "    reader = csv.reader(csv_file)\n",
    "    next(reader)  \n",
    "    actors = {}\n",
    "    \n",
    "    for row in reader:\n",
    "        actor = row[0]\n",
    "        total_gross = float(row[1])\n",
    "        \n",
    "        if actor in actors:\n",
    "            actors[actor] += total_gross\n",
    "        else:\n",
    "            actors[actor] = total_gross"
   ]
  },
  {
   "cell_type": "markdown",
   "id": "1e49a58c",
   "metadata": {},
   "source": [
    "## Transformação"
   ]
  },
  {
   "cell_type": "code",
   "execution_count": 11,
   "id": "89f73ec9",
   "metadata": {},
   "outputs": [],
   "source": [
    "    sorted_actors = sorted(actors.items(), key=lambda x: x[1], reverse=True)\n",
    "    \n",
    "    result = ''\n",
    "    \n",
    "    for actor, total_gross in sorted_actors:\n",
    "        actor_cleaned = actor.replace(',', '')  \n",
    "        result += f'{actor_cleaned}: {total_gross:.2f}\\n'"
   ]
  },
  {
   "cell_type": "markdown",
   "id": "c2171e60",
   "metadata": {},
   "source": [
    "## Carregamento"
   ]
  },
  {
   "cell_type": "code",
   "execution_count": 12,
   "id": "3e786847",
   "metadata": {},
   "outputs": [],
   "source": [
    "with open('etapa-5.txt', 'w') as file:\n",
    "        file.write(result)"
   ]
  },
  {
   "cell_type": "code",
   "execution_count": null,
   "id": "1ae6382a",
   "metadata": {},
   "outputs": [],
   "source": []
  }
 ],
 "metadata": {
  "kernelspec": {
   "display_name": "Python 3 (ipykernel)",
   "language": "python",
   "name": "python3"
  },
  "language_info": {
   "codemirror_mode": {
    "name": "ipython",
    "version": 3
   },
   "file_extension": ".py",
   "mimetype": "text/x-python",
   "name": "python",
   "nbconvert_exporter": "python",
   "pygments_lexer": "ipython3",
   "version": "3.10.9"
  }
 },
 "nbformat": 4,
 "nbformat_minor": 5
}
