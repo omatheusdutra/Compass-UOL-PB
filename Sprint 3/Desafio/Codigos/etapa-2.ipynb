{
 "cells": [
  {
   "cell_type": "markdown",
   "id": "f9990e8e",
   "metadata": {},
   "source": [
    "## Biblioteca"
   ]
  },
  {
   "cell_type": "code",
   "execution_count": 1,
   "id": "d4c88678",
   "metadata": {},
   "outputs": [],
   "source": [
    "import csv"
   ]
  },
  {
   "cell_type": "markdown",
   "id": "bb3f815d",
   "metadata": {},
   "source": [
    "## Extração"
   ]
  },
  {
   "cell_type": "code",
   "execution_count": 4,
   "id": "d28b42d3",
   "metadata": {},
   "outputs": [],
   "source": [
    "with open('actors.csv', 'r') as csv_file:\n",
    "    reader = csv.reader(csv_file)\n",
    "    next(reader)  \n",
    "    actors = {}\n",
    "    \n",
    "    for row in reader:\n",
    "        actor = row[0]\n",
    "        total_gross = float(row[1])\n",
    "        num_movies = int(row[2])\n",
    "        average = total_gross / num_movies\n",
    "        \n",
    "        if actor in actors:\n",
    "            actors[actor].append(average)\n",
    "        else:\n",
    "            actors[actor] = [average]"
   ]
  },
  {
   "cell_type": "markdown",
   "id": "7714411b",
   "metadata": {},
   "source": [
    "## Transformação"
   ]
  },
  {
   "cell_type": "code",
   "execution_count": 7,
   "id": "42f495d3",
   "metadata": {},
   "outputs": [],
   "source": [
    "result = ''\n",
    "\n",
    "for actor, averages in actors.items():\n",
    "    average = sum(averages) / len(averages)\n",
    "    actor_cleaned = actor.replace(',', '') \n",
    "    result += f'{actor_cleaned}: {average:.2f}\\n'\n"
   ]
  },
  {
   "cell_type": "markdown",
   "id": "6a7a3df0",
   "metadata": {},
   "source": [
    "## Carregamento"
   ]
  },
  {
   "cell_type": "code",
   "execution_count": 8,
   "id": "ae41ade7",
   "metadata": {},
   "outputs": [],
   "source": [
    "with open('etapa-2.txt', 'w') as file:\n",
    "    file.write(result)\n"
   ]
  },
  {
   "cell_type": "code",
   "execution_count": null,
   "id": "3c28a570",
   "metadata": {},
   "outputs": [],
   "source": []
  }
 ],
 "metadata": {
  "kernelspec": {
   "display_name": "Python 3 (ipykernel)",
   "language": "python",
   "name": "python3"
  },
  "language_info": {
   "codemirror_mode": {
    "name": "ipython",
    "version": 3
   },
   "file_extension": ".py",
   "mimetype": "text/x-python",
   "name": "python",
   "nbconvert_exporter": "python",
   "pygments_lexer": "ipython3",
   "version": "3.10.9"
  }
 },
 "nbformat": 4,
 "nbformat_minor": 5
}
