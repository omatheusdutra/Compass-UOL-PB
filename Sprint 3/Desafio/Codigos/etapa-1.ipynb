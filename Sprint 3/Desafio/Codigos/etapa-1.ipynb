{
 "cells": [
  {
   "cell_type": "markdown",
   "id": "cb0fe4dc",
   "metadata": {},
   "source": [
    "## Biblioteca"
   ]
  },
  {
   "cell_type": "code",
   "execution_count": 31,
   "id": "664e820e",
   "metadata": {},
   "outputs": [],
   "source": [
    "import csv"
   ]
  },
  {
   "cell_type": "markdown",
   "id": "6d9cd29a",
   "metadata": {},
   "source": [
    "## Extração"
   ]
  },
  {
   "cell_type": "code",
   "execution_count": 32,
   "id": "f3ea771c",
   "metadata": {},
   "outputs": [],
   "source": [
    "with open('actors.csv', 'r') as csv_file:\n",
    "    reader = csv.reader(csv_file)\n",
    "    next(reader) \n",
    "    actors = {}\n",
    "    \n",
    "    for row in reader:\n",
    "        actor = row[0]\n",
    "        num_movies = int(row[2])\n",
    "        \n",
    "        if actor in actors:\n",
    "            actors[actor] += num_movies\n",
    "        else:\n",
    "            actors[actor] = num_movies"
   ]
  },
  {
   "cell_type": "markdown",
   "id": "aa0441e3",
   "metadata": {},
   "source": [
    "## Transformação"
   ]
  },
  {
   "cell_type": "code",
   "execution_count": 33,
   "id": "b689ad6d",
   "metadata": {},
   "outputs": [],
   "source": [
    "actor_max_movies = max(actors, key=actors.get)\n",
    "num_max_movies = actors[actor_max_movies]\n",
    "\n",
    "result = f'{actor_max_movies}: {num_max_movies}'\n"
   ]
  },
  {
   "cell_type": "markdown",
   "id": "5492c57b",
   "metadata": {},
   "source": [
    "## Carregamento"
   ]
  },
  {
   "cell_type": "code",
   "execution_count": 34,
   "id": "cf3b0e9b",
   "metadata": {},
   "outputs": [],
   "source": [
    "with open('etapa-1.txt', 'w') as file:\n",
    "    file.write(result)\n"
   ]
  },
  {
   "cell_type": "code",
   "execution_count": null,
   "id": "b1722cd7",
   "metadata": {},
   "outputs": [],
   "source": []
  }
 ],
 "metadata": {
  "kernelspec": {
   "display_name": "Python 3 (ipykernel)",
   "language": "python",
   "name": "python3"
  },
  "language_info": {
   "codemirror_mode": {
    "name": "ipython",
    "version": 3
   },
   "file_extension": ".py",
   "mimetype": "text/x-python",
   "name": "python",
   "nbconvert_exporter": "python",
   "pygments_lexer": "ipython3",
   "version": "3.10.9"
  }
 },
 "nbformat": 4,
 "nbformat_minor": 5
}
